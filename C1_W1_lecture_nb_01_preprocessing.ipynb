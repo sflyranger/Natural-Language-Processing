{
  "cells": [
    {
      "cell_type": "markdown",
      "metadata": {
        "id": "view-in-github",
        "colab_type": "text"
      },
      "source": [
        "<a href=\"https://colab.research.google.com/github/sflyranger/Natural-Language-Processing/blob/main/C1_W1_lecture_nb_01_preprocessing.ipynb\" target=\"_parent\"><img src=\"https://colab.research.google.com/assets/colab-badge.svg\" alt=\"Open In Colab\"/></a>"
      ]
    },
    {
      "cell_type": "markdown",
      "metadata": {
        "id": "6jUDTXSMZtP9"
      },
      "source": [
        "# Preprocessing\n",
        "\n",
        "In this lab, we will be exploring how to preprocess tweets for sentiment analysis. We will provide a function for preprocessing tweets during this week's assignment, but it is still good to know what is going on under the hood. By the end of this lecture, you will see how to use the [NLTK](http://www.nltk.org) package to perform a preprocessing pipeline for Twitter datasets."
      ]
    },
    {
      "cell_type": "markdown",
      "metadata": {
        "id": "La1WA7rVZtP-"
      },
      "source": [
        "## Setup\n",
        "\n",
        "You will be doing sentiment analysis on tweets in the first two weeks of this course. To help with that, we will be using the [Natural Language Toolkit (NLTK)](http://www.nltk.org/howto/twitter.html) package, an open-source Python library for natural language processing. It has modules for collecting, handling, and processing Twitter data, and you will be acquainted with them as we move along the course.\n",
        "\n",
        "For this exercise, we will use a Twitter dataset that comes with NLTK. This dataset has been manually annotated and serves to establish baselines for models quickly. Let us import them now as well as a few other libraries we will be using."
      ]
    },
    {
      "cell_type": "code",
      "source": [
        "from google.colab import drive\n",
        "drive.mount('/content/drive')"
      ],
      "metadata": {
        "colab": {
          "base_uri": "https://localhost:8080/"
        },
        "id": "rhadf5JsZ3Er",
        "outputId": "ca3e44b6-3824-4cda-fa7f-a33feb48ab59"
      },
      "execution_count": 2,
      "outputs": [
        {
          "output_type": "stream",
          "name": "stdout",
          "text": [
            "Mounted at /content/drive\n"
          ]
        }
      ]
    },
    {
      "cell_type": "code",
      "source": [
        "import nltk                             # Python library for NLP\n",
        "from nltk.corpus import twitter_samples # sample Twitter dataset from NLTK\n",
        "import matplotlib.pyplot as plt         # visualization\n",
        "import random                           # random number generator\n",
        "\n",
        "import re                                  # library for regular expression operations\n",
        "import string                              # for string operations\n",
        "\n",
        "from nltk.corpus import stopwords          # module for stop words that come with NLTK\n",
        "from nltk.stem import PorterStemmer        # module for stemming\n",
        "from nltk.tokenize import TweetTokenizer   # module for tokenizing strings"
      ],
      "metadata": {
        "id": "PY2GmUORaYhf"
      },
      "execution_count": 17,
      "outputs": []
    },
    {
      "cell_type": "markdown",
      "metadata": {
        "id": "7eAvIQEiZtP_"
      },
      "source": [
        "## About the Twitter dataset\n",
        "\n",
        "The sample dataset from NLTK is separated into positive and negative tweets. It contains 5000 positive tweets and 5000 negative tweets exactly. The exact match between these classes is not a coincidence. The intention is to have a balanced dataset. That does not reflect the real distributions of positive and negative classes in live Twitter streams. It is just because balanced datasets simplify the design of most computational methods that are required for sentiment analysis. However, it is better to be aware that this balance of classes is artificial.\n",
        "\n",
        "You can download the dataset in your workspace (or in your local computer) by doing:"
      ]
    },
    {
      "cell_type": "code",
      "source": [
        "# downloading the twitter dataset.\n",
        "nltk.download('twitter_samples')\n"
      ],
      "metadata": {
        "colab": {
          "base_uri": "https://localhost:8080/"
        },
        "id": "jv6TW_gna5Gm",
        "outputId": "576d4e62-242b-4099-c817-ece6ebc4a1b2"
      },
      "execution_count": 4,
      "outputs": [
        {
          "output_type": "stream",
          "name": "stderr",
          "text": [
            "[nltk_data] Downloading package twitter_samples to /root/nltk_data...\n",
            "[nltk_data]   Unzipping corpora/twitter_samples.zip.\n"
          ]
        },
        {
          "output_type": "execute_result",
          "data": {
            "text/plain": [
              "True"
            ]
          },
          "metadata": {},
          "execution_count": 4
        }
      ]
    },
    {
      "cell_type": "markdown",
      "metadata": {
        "id": "gYoSB0-GZtP_"
      },
      "source": [
        "We can load the text fields of the positive and negative tweets by using the module's `strings()` method like this:"
      ]
    },
    {
      "cell_type": "code",
      "source": [
        "# Selectinh the set of pos and neg tweets\n",
        "all_positive_tweets = twitter_samples.strings('positive_tweets.json')\n",
        "all_negative_tweets = twitter_samples.strings('negative_tweets.json')\n"
      ],
      "metadata": {
        "id": "Dbrm3VLybDpY"
      },
      "execution_count": 5,
      "outputs": []
    },
    {
      "cell_type": "markdown",
      "metadata": {
        "id": "e_SyKpxbZtQA"
      },
      "source": [
        "Next, we'll print a report with the number of positive and negative tweets. It is also essential to know the data structure of the datasets"
      ]
    },
    {
      "cell_type": "code",
      "execution_count": null,
      "metadata": {
        "id": "-qtsyi1zZtQA"
      },
      "outputs": [],
      "source": [
        "print('Number of positive tweets: ', len(all_positive_tweets))\n",
        "print('Number of negative tweets: ', len(all_negative_tweets))\n",
        "\n",
        "print('\\nThe type of all_positive_tweets is: ', type(all_positive_tweets))\n",
        "print('The type of a tweet entry is: ', type(all_negative_tweets[0]))"
      ]
    },
    {
      "cell_type": "code",
      "source": [
        "print('Number of positive tweets: ', len(all_positive_tweets))\n",
        "print('Number of negative tweets: ', len(all_negative_tweets))\n",
        "\n",
        "print('\\nThe type of all_positive_tweets is: ', type(all_positive_tweets))\n",
        "print('The type of a tweet entry is:', type(all_negative_tweets[0])) #Calling index here allows for identification of indivual entries in the string lists."
      ],
      "metadata": {
        "colab": {
          "base_uri": "https://localhost:8080/"
        },
        "id": "QMCXBHPfbYc1",
        "outputId": "3e9721cd-7023-4a8d-a4b3-6bbe98b32ee7"
      },
      "execution_count": 8,
      "outputs": [
        {
          "output_type": "stream",
          "name": "stdout",
          "text": [
            "Number of positive tweets:  5000\n",
            "Number of negative tweets:  5000\n",
            "\n",
            "The type of all_positive_tweets is:  <class 'list'>\n",
            "The type of a tweet entry is: <class 'str'>\n"
          ]
        }
      ]
    },
    {
      "cell_type": "markdown",
      "metadata": {
        "id": "ptpypFcyZtQA"
      },
      "source": [
        "We can see that the data is stored in a list and as you might expect, individual tweets are stored as strings.\n",
        "\n",
        "You can make a more visually appealing report by using Matplotlib's [pyplot](https://matplotlib.org/tutorials/introductory/pyplot.html) library. Let us see how to create a [pie chart](https://matplotlib.org/3.2.1/gallery/pie_and_polar_charts/pie_features.html#sphx-glr-gallery-pie-and-polar-charts-pie-features-py) to show the same information as above. This simple snippet will serve you in future visualizations of this kind of data."
      ]
    },
    {
      "cell_type": "code",
      "execution_count": null,
      "metadata": {
        "id": "Te7elTTJZtQA"
      },
      "outputs": [],
      "source": [
        "# Declare a figure with a custom size\n",
        "fig = plt.figure(figsize=(5, 5))\n",
        "\n",
        "# labels for the two classes\n",
        "labels = 'Positives', 'Negative'\n",
        "\n",
        "# Sizes for each slide\n",
        "sizes = [len(all_positive_tweets), len(all_negative_tweets)]\n",
        "\n",
        "# Declare pie chart, where the slices will be ordered and plotted counter-clockwise:\n",
        "plt.pie(sizes, labels=labels, autopct='%1.1f%%',\n",
        "        shadow=True, startangle=90)\n",
        "\n",
        "# Equal aspect ratio ensures that pie is drawn as a circle.\n",
        "plt.axis('equal')\n",
        "\n",
        "# Display the chart\n",
        "plt.show()"
      ]
    },
    {
      "cell_type": "code",
      "source": [
        "# Figure Plot\n",
        "fig = plt.figure(figsize = (8,6))\n",
        "\n",
        "# Labels for two classes\n",
        "labels = 'Positive','Negative'\n",
        "\n",
        "# Sizes for the slide\n",
        "sizes = [len(all_positive_tweets),len(all_negative_tweets)]\n",
        "\n",
        "# Pie chart where the slices will be ordered and plotted CCW:\n",
        "plt.pie(sizes, labels = labels,autopct='%1.1f%%',shadow = True,startangle=90)\n",
        "\n",
        "# Equal aspects ratio ensures that pie is drawn as a circle.\n",
        "plt.axis('equal')\n",
        "\n",
        "# Display\n",
        "\n",
        "plt.show()"
      ],
      "metadata": {
        "colab": {
          "base_uri": "https://localhost:8080/",
          "height": 499
        },
        "id": "p20edEv0cHyd",
        "outputId": "7ea86706-11db-46c6-9aaf-6bac2798944f"
      },
      "execution_count": 9,
      "outputs": [
        {
          "output_type": "display_data",
          "data": {
            "text/plain": [
              "<Figure size 800x600 with 1 Axes>"
            ],
            "image/png": "[encoded data removed]"
          },
          "metadata": {}
        }
      ]
    },
    {
      "cell_type": "markdown",
      "metadata": {
        "id": "iagPezrTZtQA"
      },
      "source": [
        "## Looking at raw texts\n",
        "\n",
        "Before anything else, we can print a couple of tweets from the dataset to see how they look. Understanding the data is responsible for 80% of the success or failure in data science projects. We can use this time to observe aspects we'd like to consider when preprocessing our data.\n",
        "\n",
        "Below, you will print one random positive and one random negative tweet. We have added a color mark at the beginning of the string to further distinguish the two. (Warning: This is taken from a public dataset of real tweets and a very small portion has explicit content.)"
      ]
    },
    {
      "cell_type": "code",
      "source": [
        "# Positive in Green\n",
        "print('\\033[92m]' + all_positive_tweets[random.randint(0,5000)])\n",
        "\n",
        "# Negative in red\n",
        "print('\\033[91m' + all_negative_tweets[random.randint(0,5000)])"
      ],
      "metadata": {
        "colab": {
          "base_uri": "https://localhost:8080/"
        },
        "id": "sxoUxocnlaut",
        "outputId": "efac979d-4bde-4373-ed9f-9c6daa34988e"
      },
      "execution_count": 12,
      "outputs": [
        {
          "output_type": "stream",
          "name": "stdout",
          "text": [
            "\u001b[92m]@dennislami @Dicle_Aygur, yeah exactly :)\n",
            "\u001b[91mHoya mah always good looking :(\n",
            "No comment aing :(\n"
          ]
        }
      ]
    },
    {
      "cell_type": "markdown",
      "metadata": {
        "id": "W2d1k_S9ZtQA"
      },
      "source": [
        "One observation you may have is the presence of [emoticons](https://en.wikipedia.org/wiki/Emoticon) and URLs in many of the tweets. This info will come in handy in the next steps."
      ]
    },
    {
      "cell_type": "markdown",
      "metadata": {
        "id": "bU8FetPYZtQB"
      },
      "source": [
        "## Preprocess raw text for Sentiment analysis"
      ]
    },
    {
      "cell_type": "markdown",
      "metadata": {
        "id": "qfbqsH7EZtQB"
      },
      "source": [
        "Data preprocessing is one of the critical steps in any machine learning project. It includes cleaning and formatting the data before feeding into a machine learning algorithm. For NLP, the preprocessing steps are comprised of the following tasks:\n",
        "\n",
        "* Tokenizing the string\n",
        "* Lowercasing\n",
        "* Removing stop words and punctuation\n",
        "* Stemming\n",
        "\n",
        "The videos explained each of these steps and why they are important. Let's see how we can do these to a given tweet. We will choose just one and see how this is transformed by each preprocessing step."
      ]
    },
    {
      "cell_type": "code",
      "source": [
        "tweet = all_negative_tweets[2277]\n",
        "print(tweet)"
      ],
      "metadata": {
        "colab": {
          "base_uri": "https://localhost:8080/"
        },
        "id": "V6cygpvqm7Y9",
        "outputId": "5835ac5e-8d53-4604-bd10-72963060a822"
      },
      "execution_count": 37,
      "outputs": [
        {
          "output_type": "stream",
          "name": "stdout",
          "text": [
            "okay she doesnt want to talk to me then I will stop :(\n"
          ]
        }
      ]
    },
    {
      "cell_type": "markdown",
      "metadata": {
        "id": "TIPiUGS4ZtQB"
      },
      "source": [
        "Let's import a few more libraries for this purpose."
      ]
    },
    {
      "cell_type": "code",
      "source": [
        "nltk.download('stopwords')"
      ],
      "metadata": {
        "colab": {
          "base_uri": "https://localhost:8080/"
        },
        "id": "LEgv5FvMnHa8",
        "outputId": "4cfd0d65-07ad-4cbe-f3b9-0d3557b34731"
      },
      "execution_count": 34,
      "outputs": [
        {
          "output_type": "stream",
          "name": "stderr",
          "text": [
            "[nltk_data] Downloading package stopwords to /root/nltk_data...\n",
            "[nltk_data]   Package stopwords is already up-to-date!\n"
          ]
        },
        {
          "output_type": "execute_result",
          "data": {
            "text/plain": [
              "True"
            ]
          },
          "metadata": {},
          "execution_count": 34
        }
      ]
    },
    {
      "cell_type": "markdown",
      "metadata": {
        "id": "A0UOJgufZtQB"
      },
      "source": [
        "### Remove hyperlinks,  Twitter marks and styles\n",
        "\n",
        "Since we have a Twitter dataset, we'd like to remove some substrings commonly used on the platform like the hashtag, retweet marks, and hyperlinks. We'll use the [re](https://docs.python.org/3/library/re.html) library to perform regular expression operations on our tweet. We'll define our search pattern and use the `sub()` method to remove matches by substituting with an empty character (i.e. `''`)"
      ]
    },
    {
      "cell_type": "code",
      "execution_count": null,
      "metadata": {
        "scrolled": true,
        "id": "KPqGdUcTZtQB"
      },
      "outputs": [],
      "source": [
        "print('\\033[92m' + tweet)\n",
        "print('\\033[94m')\n",
        "\n",
        "# remove old style retweet text \"RT\"\n",
        "tweet2 = re.sub(r'^RT[\\s]+', '', tweet)\n",
        "\n",
        "# remove hyperlinks\n",
        "tweet2 = re.sub(r'https?://[^\\s\\n\\r]+', '', tweet2)\n",
        "\n",
        "# remove hashtags\n",
        "# only removing the hash # sign from the word\n",
        "tweet2 = re.sub(r'#', '', tweet2)\n",
        "\n",
        "print(tweet2)"
      ]
    },
    {
      "cell_type": "code",
      "source": [
        "print('\\033[92m'+tweet)\n",
        "print('\\033[94m')\n",
        "\n",
        "# remove old style retweet text 'RT'\n",
        "tweet2 = re.sub(r'^RT[\\s]+', '', tweet)\n",
        "\n",
        "# Remove hyperlinks\n",
        "tweet2 = re.sub(r'https?://[^\\s\\n\\r]+','',tweet2)\n",
        "\n",
        "tweet2 = re.sub(r'#','',tweet)\n",
        "\n",
        "print(tweet2)"
      ],
      "metadata": {
        "colab": {
          "base_uri": "https://localhost:8080/"
        },
        "id": "So_CkbggnVwR",
        "outputId": "91d44784-5a15-4aea-a691-2e85217f74e4"
      },
      "execution_count": 38,
      "outputs": [
        {
          "output_type": "stream",
          "name": "stdout",
          "text": [
            "\u001b[92mokay she doesnt want to talk to me then I will stop :(\n",
            "\u001b[94m\n",
            "okay she doesnt want to talk to me then I will stop :(\n"
          ]
        }
      ]
    },
    {
      "cell_type": "markdown",
      "metadata": {
        "id": "hS8X7h2WZtQB"
      },
      "source": [
        "### Tokenize the string\n",
        "\n",
        "To tokenize means to split the strings into individual words without blanks or tabs. In this same step, we will also convert each word in the string to lower case. The [tokenize](https://www.nltk.org/api/nltk.tokenize.html#module-nltk.tokenize.casual) module from NLTK allows us to do these easily:"
      ]
    },
    {
      "cell_type": "code",
      "execution_count": null,
      "metadata": {
        "id": "lLt9ZcfXZtQB"
      },
      "outputs": [],
      "source": [
        "print()\n",
        "print('\\033[92m' + tweet2)\n",
        "print('\\033[94m')\n",
        "\n",
        "# instantiate tokenizer class\n",
        "tokenizer = TweetTokenizer(preserve_case=False, strip_handles=True,\n",
        "                               reduce_len=True)\n",
        "\n",
        "# tokenize tweets\n",
        "tweet_tokens = tokenizer.tokenize(tweet2)\n",
        "\n",
        "print()\n",
        "print('Tokenized string:')\n",
        "print(tweet_tokens)"
      ]
    },
    {
      "cell_type": "code",
      "source": [
        "print()\n",
        "print('\\033[92m'+tweet2)\n",
        "print('\\033[94m')\n",
        "\n",
        "# instatiate tokenizer class\n",
        "tokenizer = TweetTokenizer(preserve_case = False,strip_handles=True,reduce_len = True)\n",
        "\n",
        "# Tokenize tweets\n",
        "tweet_tokes = tokenizer.tokenize(tweet2)\n",
        "\n",
        "print('Tokenized String:')\n",
        "print(tweet_tokes)"
      ],
      "metadata": {
        "colab": {
          "base_uri": "https://localhost:8080/"
        },
        "id": "NM-10_COpHwG",
        "outputId": "93656788-6548-4396-b476-d0b766c007fe"
      },
      "execution_count": 40,
      "outputs": [
        {
          "output_type": "stream",
          "name": "stdout",
          "text": [
            "\n",
            "\u001b[92mokay she doesnt want to talk to me then I will stop :(\n",
            "\u001b[94m\n",
            "Tokenized String:\n",
            "['okay', 'she', 'doesnt', 'want', 'to', 'talk', 'to', 'me', 'then', 'i', 'will', 'stop', ':(']\n"
          ]
        }
      ]
    },
    {
      "cell_type": "markdown",
      "metadata": {
        "id": "WNc7B5o5ZtQB"
      },
      "source": [
        "### Remove stop words and punctuations\n",
        "\n",
        "The next step is to remove stop words and punctuation. Stop words are words that don't add significant meaning to the text. You'll see the list provided by NLTK when you run the cells below."
      ]
    },
    {
      "cell_type": "code",
      "execution_count": null,
      "metadata": {
        "id": "yWpP0mUzZtQB"
      },
      "outputs": [],
      "source": [
        "#Import the english stop words list from NLTK\n",
        "stopwords_english = stopwords.words('english')\n",
        "\n",
        "print('Stop words\\n')\n",
        "print(stopwords_english)\n",
        "\n",
        "print('\\nPunctuation\\n')\n",
        "print(string.punctuation)"
      ]
    },
    {
      "cell_type": "code",
      "source": [
        "# importing english words from NLTK\n",
        "\n",
        "stopwords_english = stopwords.words('english')\n",
        "\n",
        "print('Stopwords:')\n",
        "print(stopwords_english)\n",
        "\n",
        "print('\\nPunctuation\\n')\n",
        "print(string.punctuation)"
      ],
      "metadata": {
        "colab": {
          "base_uri": "https://localhost:8080/"
        },
        "id": "Qqb46THWp_j0",
        "outputId": "2a780cbe-470c-4332-d2dc-e36549079b31"
      },
      "execution_count": 42,
      "outputs": [
        {
          "output_type": "stream",
          "name": "stdout",
          "text": [
            "Stopwords:\n",
            "['i', 'me', 'my', 'myself', 'we', 'our', 'ours', 'ourselves', 'you', \"you're\", \"you've\", \"you'll\", \"you'd\", 'your', 'yours', 'yourself', 'yourselves', 'he', 'him', 'his', 'himself', 'she', \"she's\", 'her', 'hers', 'herself', 'it', \"it's\", 'its', 'itself', 'they', 'them', 'their', 'theirs', 'themselves', 'what', 'which', 'who', 'whom', 'this', 'that', \"that'll\", 'these', 'those', 'am', 'is', 'are', 'was', 'were', 'be', 'been', 'being', 'have', 'has', 'had', 'having', 'do', 'does', 'did', 'doing', 'a', 'an', 'the', 'and', 'but', 'if', 'or', 'because', 'as', 'until', 'while', 'of', 'at', 'by', 'for', 'with', 'about', 'against', 'between', 'into', 'through', 'during', 'before', 'after', 'above', 'below', 'to', 'from', 'up', 'down', 'in', 'out', 'on', 'off', 'over', 'under', 'again', 'further', 'then', 'once', 'here', 'there', 'when', 'where', 'why', 'how', 'all', 'any', 'both', 'each', 'few', 'more', 'most', 'other', 'some', 'such', 'no', 'nor', 'not', 'only', 'own', 'same', 'so', 'than', 'too', 'very', 's', 't', 'can', 'will', 'just', 'don', \"don't\", 'should', \"should've\", 'now', 'd', 'll', 'm', 'o', 're', 've', 'y', 'ain', 'aren', \"aren't\", 'couldn', \"couldn't\", 'didn', \"didn't\", 'doesn', \"doesn't\", 'hadn', \"hadn't\", 'hasn', \"hasn't\", 'haven', \"haven't\", 'isn', \"isn't\", 'ma', 'mightn', \"mightn't\", 'mustn', \"mustn't\", 'needn', \"needn't\", 'shan', \"shan't\", 'shouldn', \"shouldn't\", 'wasn', \"wasn't\", 'weren', \"weren't\", 'won', \"won't\", 'wouldn', \"wouldn't\"]\n",
            "\n",
            "Punctuation\n",
            "\n",
            "!\"#$%&'()*+,-./:;<=>?@[\\]^_`{|}~\n"
          ]
        }
      ]
    },
    {
      "cell_type": "markdown",
      "metadata": {
        "id": "Zjjhfab8ZtQB"
      },
      "source": [
        "We can see that the stop words list above contains some words that could be important in some contexts.\n",
        "These could be words like _i, not, between, because, won, against_. You might need to customize the stop words list for some applications. For our exercise, we will use the entire list.\n",
        "\n",
        "For the punctuation, we saw earlier that certain groupings like ':)' and '...'  should be retained when dealing with tweets because they are used to express emotions. In other contexts, like medical analysis, these should also be removed.\n",
        "\n",
        "Time to clean up our tokenized tweet!"
      ]
    },
    {
      "cell_type": "code",
      "execution_count": null,
      "metadata": {
        "id": "PUxqWKF0ZtQB"
      },
      "outputs": [],
      "source": [
        "print()\n",
        "print('\\033[92m')\n",
        "print(tweet_tokens)\n",
        "print('\\033[94m')\n",
        "\n",
        "tweets_clean = []\n",
        "\n",
        "for word in tweet_tokens: # Go through every word in your tokens list\n",
        "    if (word not in stopwords_english and  # remove stopwords\n",
        "        word not in string.punctuation):  # remove punctuation\n",
        "        tweets_clean.append(word)\n",
        "\n",
        "print('removed stop words and punctuation:')\n",
        "print(tweets_clean)"
      ]
    },
    {
      "cell_type": "markdown",
      "metadata": {
        "id": "nTcjIcG9ZtQB"
      },
      "source": [
        "Please note that the words **happy** and **sunny** in this list are correctly spelled."
      ]
    },
    {
      "cell_type": "markdown",
      "metadata": {
        "id": "E5A4mg4sZtQB"
      },
      "source": [
        "### Stemming\n",
        "\n",
        "Stemming is the process of converting a word to its most general form, or stem. This helps in reducing the size of our vocabulary.\n",
        "\n",
        "Consider the words:\n",
        " * **learn**\n",
        " * **learn**ing\n",
        " * **learn**ed\n",
        " * **learn**t\n",
        "\n",
        "All these words are stemmed from its common root **learn**. However, in some cases, the stemming process produces words that are not correct spellings of the root word. For example, **happi** and **sunni**. That's because it chooses the most common stem for related words. For example, we can look at the set of words that comprises the different forms of happy:\n",
        "\n",
        " * **happ**y\n",
        " * **happi**ness\n",
        " * **happi**er\n",
        "\n",
        "We can see that the prefix **happi** is more commonly used. We cannot choose **happ** because it is the stem of unrelated words like **happen**.\n",
        "\n",
        "NLTK has different modules for stemming and we will be using the [PorterStemmer](https://www.nltk.org/api/nltk.stem.html#module-nltk.stem.porter) module which uses the [Porter Stemming Algorithm](https://tartarus.org/martin/PorterStemmer/). Let's see how we can use it in the cell below."
      ]
    },
    {
      "cell_type": "code",
      "execution_count": null,
      "metadata": {
        "id": "3gNSKxzsZtQB"
      },
      "outputs": [],
      "source": [
        "print()\n",
        "print('\\033[92m')\n",
        "print(tweets_clean)\n",
        "print('\\033[94m')\n",
        "\n",
        "# Instantiate stemming class\n",
        "stemmer = PorterStemmer()\n",
        "\n",
        "# Create an empty list to store the stems\n",
        "tweets_stem = []\n",
        "\n",
        "for word in tweets_clean:\n",
        "    stem_word = stemmer.stem(word)  # stemming word\n",
        "    tweets_stem.append(stem_word)  # append to the list\n",
        "\n",
        "print('stemmed words:')\n",
        "print(tweets_stem)"
      ]
    },
    {
      "cell_type": "markdown",
      "metadata": {
        "id": "xzU2HEPrZtQC"
      },
      "source": [
        "That's it! Now we have a set of words we can feed into to the next stage of our machine learning project."
      ]
    },
    {
      "cell_type": "markdown",
      "metadata": {
        "id": "gvtopSg8ZtQC"
      },
      "source": [
        "## process_tweet()\n",
        "\n",
        "As shown above, preprocessing consists of multiple steps before you arrive at the final list of words. We will not ask you to replicate these however. In the week's assignment, you will use the function `process_tweet(tweet)` available in _utils.py_. We encourage you to open the file and you'll see that this function's implementation is very similar to the steps above.\n",
        "\n",
        "To obtain the same result as in the previous code cells, you will only need to call the function `process_tweet()`. Let's do that in the next cell."
      ]
    },
    {
      "cell_type": "code",
      "execution_count": null,
      "metadata": {
        "id": "9jk6ZsjcZtQC"
      },
      "outputs": [],
      "source": [
        "from utils import process_tweet # Import the process_tweet function\n",
        "\n",
        "# choose the same tweet\n",
        "tweet = all_positive_tweets[2277]\n",
        "\n",
        "print()\n",
        "print('\\033[92m')\n",
        "print(tweet)\n",
        "print('\\033[94m')\n",
        "\n",
        "# call the imported function\n",
        "tweets_stem = process_tweet(tweet); # Preprocess a given tweet\n",
        "\n",
        "print('preprocessed tweet:')\n",
        "print(tweets_stem) # Print the result"
      ]
    },
    {
      "cell_type": "markdown",
      "metadata": {
        "id": "02Fi0eObZtQC"
      },
      "source": [
        "That's it for this lab! You now know what is going on when you call the preprocessing helper function in this week's assignment. Hopefully, this exercise has also given you some insights on how to tweak this for other types of text datasets."
      ]
    }
  ],
  "metadata": {
    "kernelspec": {
      "display_name": "Python 3",
      "language": "python",
      "name": "python3"
    },
    "language_info": {
      "codemirror_mode": {
        "name": "ipython",
        "version": 3
      },
      "file_extension": ".py",
      "mimetype": "text/x-python",
      "name": "python",
      "nbconvert_exporter": "python",
      "pygments_lexer": "ipython3",
      "version": "3.7.6"
    },
    "colab": {
      "provenance": [],
      "include_colab_link": true
    }
  },
  "nbformat": 4,
  "nbformat_minor": 0
}