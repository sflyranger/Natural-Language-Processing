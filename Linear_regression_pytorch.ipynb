{
  "cells": [
    {
      "cell_type": "markdown",
      "id": "9cdd0f44-6ef2-4952-8c9c-2d483c80c3a4",
      "metadata": {
        "id": "9cdd0f44-6ef2-4952-8c9c-2d483c80c3a4"
      },
      "source": [
        "# <font color='blue'>**Cracking the Code: Regression Models with PyTorch**</font>\n",
        "\n",
        "Ever wondered about the relationship between two variables, like how \\( x \\) impacts \\( y \\)? You might have a hunch about whether it’s linear or quadratic, but you're not 100% sure. That’s where this project comes in!\n",
        "\n",
        "In this project, I'll be using **least mean squares regression** to nail down the coefficients for three models:\n",
        "\n",
        "1. **Quadratic model**:  \n",
        "    $y = b + w_1 \\cdot x + w_2 \\cdot x^2$\n",
        "2. **Linear model** (with bias):  \n",
        "   $y = b + w_1 \\cdot x$\n",
        "3. **Linear model** (without bias):  \n",
        "   $y = w_1 \\cdot x$\n",
        "\n",
        "<font color='blue'>**Key approach**: I'm using Batch Gradient Descent to estimate the model coefficients. The idea here is to work with the entire dataset at each iteration.</font>  \n",
        "\n",
        "Some important points to keep in mind:\n",
        "- **No data splitting**: I’m sticking with just the training loop for now, so no need to worry about validation here.\n",
        "- **Single training loop**: This means there’s only one `for loop` in the training process, looping over the entire dataset per epoch (no batch creation).\n",
        "- **Experimentation is key**: I’ll be playing around with different epoch counts and learning rates to fine-tune the results.\n",
        "- I’ll be leveraging **PyTorch’s nn.module and functions** to build out the models and handle the training.\n",
        "\n",
        "Normally, neural networks wouldn’t be the go-to approach for problems like these, but I’m using this project as a way to sharpen my understanding of how regression works with PyTorch.\n",
        "\n",
        "This project is a hands-on dive into basic regression techniques, giving me a solid foundation in how these models behave and how to tune them with PyTorch. Let’s see how well we can predict the relationship between \\( x \\) and \\( y \\)!\n",
        "\n"
      ]
    },
    {
      "cell_type": "code",
      "execution_count": null,
      "id": "babac75a-9742-429f-bd0a-ebe00e21edeb",
      "metadata": {
        "id": "babac75a-9742-429f-bd0a-ebe00e21edeb"
      },
      "outputs": [],
      "source": [
        "import torch\n",
        "import torch.nn as nn"
      ]
    },
    {
      "cell_type": "markdown",
      "id": "ee06530d-6bb4-43c7-b650-81f8c287b72c",
      "metadata": {
        "id": "ee06530d-6bb4-43c7-b650-81f8c287b72c"
      },
      "source": [
        "## <font color = 'blue'> **Data**"
      ]
    },
    {
      "cell_type": "code",
      "execution_count": null,
      "id": "1bb7f11e-7e56-46f3-bc64-6c01162ed998",
      "metadata": {
        "id": "1bb7f11e-7e56-46f3-bc64-6c01162ed998"
      },
      "outputs": [],
      "source": [
        "x = torch.tensor([1.5420291, 1.8935232, 2.1603365, 2.5381863, 2.893443, \\\n",
        "                    3.838855, 3.925425, 4.2233696, 4.235571, 4.273397, \\\n",
        "                    4.9332876, 6.4704757, 6.517571, 6.87826, 7.0009003, \\\n",
        "                    7.035741, 7.278681, 7.7561755, 9.121138, 9.728281])\n",
        "y = torch.tensor([63.802246, 80.036026, 91.4903, 108.28776, 122.781975, \\\n",
        "                    161.36314, 166.50816, 176.16772, 180.29395, 179.09758, \\\n",
        "                    206.21027, 272.71857, 272.24033, 289.54745, 293.8488, \\\n",
        "                    295.2281, 306.62274, 327.93243, 383.16296, 408.65967])"
      ]
    },
    {
      "cell_type": "markdown",
      "id": "57526f1b-4aa0-4125-b921-09294e3f0ea5",
      "metadata": {
        "id": "57526f1b-4aa0-4125-b921-09294e3f0ea5"
      },
      "source": [
        "## <font color='blue'>**Reshaping Tensors and forming the Quadratic Polynomial term**\n",
        "\n",
        "- In PyTorch, the standard expected input shape for loss functions (such as MSELoss) is typically **(n, 1)**, where **n** represents the number of samples (observations) in the tensor.\n",
        "- We can accomplish this reshaping using the `.reshape(-1, 1)` method. The **-1** allows PyTorch to automatically infer the correct number of rows based on the data's size, while **1** forces it into a single column.\n",
        "- This is not exactly a transpose; it's more of a reshaping operation that changes the dimensions to match the expected input format for matrix operations.\n"
      ]
    },
    {
      "cell_type": "code",
      "execution_count": null,
      "id": "45314fb5-f190-435f-909c-7f9fd5d17e0a",
      "metadata": {
        "id": "45314fb5-f190-435f-909c-7f9fd5d17e0a"
      },
      "outputs": [],
      "source": [
        "# Reshape the y tensor to have shape (n, 1), where n is the number of samples.\n",
        "# This is done to match the expected input shape for PyTorch's loss functions.\n",
        "y = y.reshape(-1,1)\n",
        "\n",
        "# Reshape the x tensor to have shape (n, 1), similar to y, for consistency and to work with matrix operations.\n",
        "x = x.reshape(-1,1)\n",
        "\n",
        "# Compute the square of each element in x.\n",
        "# This may be used for polynomial features in regression models.\n",
        "x2 = x * x\n"
      ]
    },
    {
      "cell_type": "code",
      "execution_count": null,
      "id": "30058d3c-b527-4bba-abdb-b0f2dd502a65",
      "metadata": {
        "id": "30058d3c-b527-4bba-abdb-b0f2dd502a65",
        "outputId": "0e466ef9-c25c-40be-b668-ebb723d8ebcf"
      },
      "outputs": [
        {
          "name": "stdout",
          "output_type": "stream",
          "text": [
            "Tensor Y:\n",
            "\n",
            " tensor([[ 63.8022],\n",
            "        [ 80.0360],\n",
            "        [ 91.4903],\n",
            "        [108.2878],\n",
            "        [122.7820],\n",
            "        [161.3631],\n",
            "        [166.5082],\n",
            "        [176.1677],\n",
            "        [180.2939],\n",
            "        [179.0976],\n",
            "        [206.2103],\n",
            "        [272.7186],\n",
            "        [272.2403],\n",
            "        [289.5475],\n",
            "        [293.8488],\n",
            "        [295.2281],\n",
            "        [306.6227],\n",
            "        [327.9324],\n",
            "        [383.1630],\n",
            "        [408.6597]])\n",
            "------------------------------\n",
            "Tensor X:\n",
            "\n",
            " tensor([[1.5420],\n",
            "        [1.8935],\n",
            "        [2.1603],\n",
            "        [2.5382],\n",
            "        [2.8934],\n",
            "        [3.8389],\n",
            "        [3.9254],\n",
            "        [4.2234],\n",
            "        [4.2356],\n",
            "        [4.2734],\n",
            "        [4.9333],\n",
            "        [6.4705],\n",
            "        [6.5176],\n",
            "        [6.8783],\n",
            "        [7.0009],\n",
            "        [7.0357],\n",
            "        [7.2787],\n",
            "        [7.7562],\n",
            "        [9.1211],\n",
            "        [9.7283]])\n",
            "------------------------------\n",
            "Tensor X^2:\n",
            "\n",
            " tensor([[ 2.3779],\n",
            "        [ 3.5854],\n",
            "        [ 4.6671],\n",
            "        [ 6.4424],\n",
            "        [ 8.3720],\n",
            "        [14.7368],\n",
            "        [15.4090],\n",
            "        [17.8369],\n",
            "        [17.9401],\n",
            "        [18.2619],\n",
            "        [24.3373],\n",
            "        [41.8671],\n",
            "        [42.4787],\n",
            "        [47.3105],\n",
            "        [49.0126],\n",
            "        [49.5016],\n",
            "        [52.9792],\n",
            "        [60.1583],\n",
            "        [83.1952],\n",
            "        [94.6395]])\n"
          ]
        }
      ],
      "source": [
        "print('Tensor Y:\\n\\n', y)\n",
        "print('-'*30)\n",
        "print('Tensor X:\\n\\n', x)\n",
        "print('-'*30)\n",
        "print('Tensor X^2:\\n\\n',  x2)"
      ]
    },
    {
      "cell_type": "code",
      "execution_count": null,
      "id": "4eecf49d-bff0-4c9b-a871-7bf8f08c41ec",
      "metadata": {
        "id": "4eecf49d-bff0-4c9b-a871-7bf8f08c41ec",
        "outputId": "b04f3f02-bd65-4d60-b55f-b3d14a2689e3"
      },
      "outputs": [
        {
          "data": {
            "text/plain": [
              "tensor([[ 1.5420,  2.3779],\n",
              "        [ 1.8935,  3.5854],\n",
              "        [ 2.1603,  4.6671],\n",
              "        [ 2.5382,  6.4424],\n",
              "        [ 2.8934,  8.3720],\n",
              "        [ 3.8389, 14.7368],\n",
              "        [ 3.9254, 15.4090],\n",
              "        [ 4.2234, 17.8369],\n",
              "        [ 4.2356, 17.9401],\n",
              "        [ 4.2734, 18.2619],\n",
              "        [ 4.9333, 24.3373],\n",
              "        [ 6.4705, 41.8671],\n",
              "        [ 6.5176, 42.4787],\n",
              "        [ 6.8783, 47.3105],\n",
              "        [ 7.0009, 49.0126],\n",
              "        [ 7.0357, 49.5016],\n",
              "        [ 7.2787, 52.9792],\n",
              "        [ 7.7562, 60.1583],\n",
              "        [ 9.1211, 83.1952],\n",
              "        [ 9.7283, 94.6395]])"
            ]
          },
          "execution_count": 13,
          "metadata": {},
          "output_type": "execute_result"
        }
      ],
      "source": [
        "# Concatenate the original x tensor and its squared values (x2) along dimension 1 (columns).\n",
        "# This creates a new tensor with two features: the original x and x2 (its square) . This can be useful for polynomial regression.\n",
        "\n",
        "x_combined = torch.cat((x,x2),1)\n",
        "\n",
        "x_combined\n"
      ]
    },
    {
      "cell_type": "code",
      "execution_count": null,
      "id": "a7de71aa-3867-4592-8b8e-2022c15c3000",
      "metadata": {
        "id": "a7de71aa-3867-4592-8b8e-2022c15c3000",
        "outputId": "14b71dfc-c159-4aac-f6b8-0f3ae33ff273"
      },
      "outputs": [
        {
          "name": "stdout",
          "output_type": "stream",
          "text": [
            "torch.Size([20, 2]) torch.Size([20, 1])\n"
          ]
        }
      ],
      "source": [
        "print(x_combined.shape, x.shape)"
      ]
    },
    {
      "cell_type": "markdown",
      "id": "27ffc35d-179a-4855-8ef5-69ba25cca428",
      "metadata": {
        "id": "27ffc35d-179a-4855-8ef5-69ba25cca428"
      },
      "source": [
        "## <font color = 'blue'>**Loss Function Initialization**\n",
        "- We use a normal MSE loss function here with reduction='mean' to calculate the average MSE for different predicted target values"
      ]
    },
    {
      "cell_type": "code",
      "execution_count": null,
      "id": "4fe93342-8ea9-432c-b5ff-d17f89576ae5",
      "metadata": {
        "id": "4fe93342-8ea9-432c-b5ff-d17f89576ae5"
      },
      "outputs": [],
      "source": [
        "loss_function = nn.MSELoss(reduction = 'mean')"
      ]
    },
    {
      "cell_type": "markdown",
      "id": "e5f8c868-1d11-41fe-98ea-0c3da08dc370",
      "metadata": {
        "id": "e5f8c868-1d11-41fe-98ea-0c3da08dc370"
      },
      "source": [
        "## <font color = 'blue'> **Train Function**"
      ]
    },
    {
      "cell_type": "code",
      "execution_count": null,
      "id": "f825a789-bb43-483e-b9c9-9127509d4c84",
      "metadata": {
        "id": "f825a789-bb43-483e-b9c9-9127509d4c84"
      },
      "outputs": [],
      "source": [
        "def train(epochs, x, y, loss_function, log_interval, model, optimizer):\n",
        "    \"\"\"\n",
        "    Train a PyTorch model using gradient descent.\n",
        "\n",
        "    Parameters:\n",
        "    epochs (int): The number of training epochs.\n",
        "    x (torch.Tensor): The input features.\n",
        "    y (torch.Tensor): The ground truth labels.\n",
        "    loss_function (torch.nn.Module): The loss function to be minimized.\n",
        "    log_interval (int): The interval at which training information is logged.\n",
        "    model (torch.nn.Module): The PyTorch model to be trained.\n",
        "    optimizer (torch.optim.Optimizer): The optimizer for updating model parameters.\n",
        "\n",
        "    Side Effects:\n",
        "    - Modifies the input model's internal parameters during training.\n",
        "    - Outputs training log information at specified intervals.\n",
        "    \"\"\"\n",
        "    losses = []\n",
        "\n",
        "    for epoch in range(epochs):\n",
        "\n",
        "        # Step 1: Forward pass - Compute predictions based on the input features\n",
        "        y_hat = model(x)\n",
        "\n",
        "        # Step 2: Compute Loss\n",
        "        loss = loss_function(y_hat, y)\n",
        "\n",
        "        # Step 3: Zero Gradients - Clear previous gradient information to prevent accumulation\n",
        "        optimizer.zero_grad()\n",
        "\n",
        "        # Step 4: Calculate Gradients - Backpropagate the error to compute gradients for each parameter\n",
        "        loss.backward()\n",
        "\n",
        "        # Step 5: Update Model Parameters - Adjust weights based on computed gradients\n",
        "        optimizer.step()\n",
        "\n",
        "        losses.append(loss.item())\n",
        "\n",
        "\n",
        "        # Log training information at specified intervals\n",
        "        if epoch % log_interval == 0:\n",
        "            print(f'epoch: {epoch + 1} --> loss {loss.item()}')\n",
        "\n",
        "    return losses[0:10] # First 10 losses for brevity"
      ]
    },
    {
      "cell_type": "markdown",
      "id": "68213429-46c9-4361-88f5-1aa63b7652cc",
      "metadata": {
        "id": "68213429-46c9-4361-88f5-1aa63b7652cc"
      },
      "source": [
        "## **Part 1: Experimenting with Learning Rates and Model Initialization**\n",
        "\n",
        "- In this part, I'm using `x_combined` (including both $x$ and $x^2$) as inputs to the model. This gives us two inputs for the model.\n",
        "- I'm defining the model using the `nn.linear` function. <font color = 'blue'>**It's important to carefully think through the values for the three arguments `in_features`, `out_features`, and `bias`.**</font> Each choice here impacts how the model behaves.\n",
        "- By default, PyTorch’s `nn.Linear` layer uses Kaiming initialization for weights, which works great with ReLU activations. However, in this experiment, <font color = 'blue'>**I’m explicitly overriding the default with custom initialization**</font> using `nn.init.normal_` for weights and `nn.init.zeros_` for bias.\n",
        "\n",
        "**<font color = 'blue'>**Now for the experiments...**</font>**\n",
        "\n",
        "### First attempt: LEARNING_RATE = 0.05\n",
        "I ran the model with a learning rate of 0.05. Here’s what I noticed:\n",
        "\n",
        "- <font color = 'blue'>**When using the higher learning rate, it is clear we are overshooting**</font> the optimal target because the loss value increases to a nan value.\n",
        "- Numerically, just like with exponential calculations, our learning rate is pushing the loss to an overflow point that the computer cannot handle.\n",
        "- This is why we should not use 0.05 to calculate our loss because the nan value happens even before the second log of the training EPOCHS.\n",
        "\n",
        "### Second attempt: LEARNING_RATE = 0.0005\n",
        "This time, I dialed it down to a learning rate of 0.0005. Here’s what I observed:\n",
        "\n",
        "- When using this smaller learning rate, we can see that the loss starts off very high, but <font color = 'blue'>**at the first log of the 10001 iteration**</font>, the loss has sharply decreased and is not nan as it was with the higher learning rate.\n",
        "- As the model continues training, we can see in the logs that the loss incrementally decreases during the rest of the training process.\n",
        "- <font color = 'blue'>**This means our learning rate is stably calculating loss**</font>, and our SGD process is functioning properly.\n"
      ]
    },
    {
      "cell_type": "code",
      "execution_count": null,
      "id": "193e4a71-b3a1-473b-a16f-44c559b52527",
      "metadata": {
        "id": "193e4a71-b3a1-473b-a16f-44c559b52527",
        "outputId": "05422cfc-6264-4416-ee8e-97531bfef363"
      },
      "outputs": [
        {
          "name": "stdout",
          "output_type": "stream",
          "text": [
            "epoch: 1 --> loss 57972.03125\n",
            "epoch: 10001 --> loss nan\n",
            "epoch: 20001 --> loss nan\n",
            "epoch: 30001 --> loss nan\n",
            "epoch: 40001 --> loss nan\n",
            "epoch: 50001 --> loss nan\n",
            "epoch: 60001 --> loss nan\n",
            "epoch: 70001 --> loss nan\n",
            "epoch: 80001 --> loss nan\n",
            "epoch: 90001 --> loss nan\n"
          ]
        },
        {
          "data": {
            "text/plain": [
              "[57972.03125,\n",
              " 1705461504.0,\n",
              " 53872567517184.0,\n",
              " 1.7017432833670513e+18,\n",
              " 5.375519033227561e+22,\n",
              " 1.698035483344887e+27,\n",
              " 5.3638065649363485e+31,\n",
              " 1.6943357709247003e+36,\n",
              " inf,\n",
              " inf]"
            ]
          },
          "execution_count": 17,
          "metadata": {},
          "output_type": "execute_result"
        }
      ],
      "source": [
        "# Model 1: 1st Attempt\n",
        "LEARNING_RATE = 0.05\n",
        "EPOCHS = 100000\n",
        "LOG_INTERVAL = 10000\n",
        "\n",
        "# Define a linear model with 2 inputs, 1 output, and bias\n",
        "model = nn.Linear(in_features=2, out_features=1, bias=True)\n",
        "\n",
        "# Initialize weights with a normal distribution (mean=0, std=0.01)\n",
        "nn.init.normal_(model.weight, mean=0, std=0.01)\n",
        "\n",
        "# Set bias terms to zero\n",
        "nn.init.zeros_(model.bias)\n",
        "\n",
        "# Create SGD optimizer with the set learning rate\n",
        "optimizer = torch.optim.SGD(model.parameters(), lr=LEARNING_RATE)\n",
        "\n",
        "# Train the model with the specified settings\n",
        "train(EPOCHS, x_combined, y, loss_function, LOG_INTERVAL, model, optimizer)\n"
      ]
    },
    {
      "cell_type": "code",
      "execution_count": null,
      "id": "ac7ed238-fec7-448f-9ba9-0ec250328ddb",
      "metadata": {
        "id": "ac7ed238-fec7-448f-9ba9-0ec250328ddb",
        "outputId": "633db5bb-75bd-4c8c-8c0b-419a542cefcc"
      },
      "outputs": [
        {
          "name": "stdout",
          "output_type": "stream",
          "text": [
            "epoch: 1 --> loss 57684.1953125\n",
            "epoch: 10001 --> loss 5.004489898681641\n",
            "epoch: 20001 --> loss 3.0957753658294678\n",
            "epoch: 30001 --> loss 2.1380200386047363\n",
            "epoch: 40001 --> loss 1.6573976278305054\n",
            "epoch: 50001 --> loss 1.4162005186080933\n",
            "epoch: 60001 --> loss 1.2950108051300049\n",
            "epoch: 70001 --> loss 1.2341464757919312\n",
            "epoch: 80001 --> loss 1.2036068439483643\n",
            "epoch: 90001 --> loss 1.1882133483886719\n"
          ]
        },
        {
          "data": {
            "image/png": "[encoded data removed]",
            "text/plain": [
              "<Figure size 640x480 with 1 Axes>"
            ]
          },
          "metadata": {},
          "output_type": "display_data"
        }
      ],
      "source": [
        "# Model 1: 2nd Attempt\n",
        "import matplotlib.pyplot as plt\n",
        "\n",
        "LEARNING_RATE = 0.0005\n",
        "EPOCHS = 100000\n",
        "LOG_INTERVAL = 10000\n",
        "\n",
        "# Define the model with 2 inputs, 1 output, and bias\n",
        "model = nn.Linear(in_features=2, out_features=1, bias=True)\n",
        "\n",
        "# Initialize weights (mean=0, std=0.01)\n",
        "nn.init.normal_(model.weight, mean=0, std=0.01)\n",
        "\n",
        "# Set bias to zero\n",
        "nn.init.zeros_(model.bias)\n",
        "\n",
        "# Create SGD optimizer with specified learning rate\n",
        "optimizer = torch.optim.SGD(model.parameters(), lr=LEARNING_RATE)\n",
        "\n",
        "# Train the model and track losses\n",
        "losses = train(EPOCHS, x_combined, y, loss_function, LOG_INTERVAL, model, optimizer)\n",
        "\n",
        "# Plot the training losses\n",
        "plt.plot(losses)\n",
        "plt.title('Training Losses')\n",
        "plt.xlabel('Epoch')\n",
        "plt.ylabel('Loss')\n",
        "plt.show()\n"
      ]
    },
    {
      "cell_type": "code",
      "execution_count": null,
      "id": "f4672ef9-856b-4c8c-9c10-6d3d55e8669f",
      "metadata": {
        "id": "f4672ef9-856b-4c8c-9c10-6d3d55e8669f",
        "outputId": "961b73ca-1af8-448a-be18-0e765907f8d0"
      },
      "outputs": [
        {
          "name": "stdout",
          "output_type": "stream",
          "text": [
            " Weights tensor([[4.1796e+01, 1.4829e-02]]), \n",
            "Bias: tensor([0.9775])\n"
          ]
        }
      ],
      "source": [
        "print(f' Weights {model.weight.data}, \\nBias: {model.bias.data}')"
      ]
    },
    {
      "cell_type": "markdown",
      "id": "9954ce91-396f-4355-aa54-2761cb466821",
      "metadata": {
        "id": "9954ce91-396f-4355-aa54-2761cb466821"
      },
      "source": [
        "## <font color = 'blue'>**Part 2: Single Input, Simpler Model**\n",
        "\n",
        "- <font color = 'blue'>**For Part 2, we’re only using $x$ as the input, so there's just one input this time.**</font>\n",
        "- I’ll define the model using `nn.Linear`. <font color = 'blue'>**Pay attention to how I set the `in_features`, `out_features`, and `bias` arguments.**</font>\n",
        "\n",
        "## <font color = 'blue'>**Observations**</font>\n",
        "- With a learning rate of 0.01, we take bigger steps toward minimizing the loss.\n",
        "- It’s a quicker way to reach the solution with less computation compared to the earlier model. Fewer features mean fewer calculations, and we’re getting closer to the optimal solution with fewer EPOCHS.\n"
      ]
    },
    {
      "cell_type": "code",
      "execution_count": null,
      "id": "2fe989c6-b5b3-4f93-aca3-8a812ea2f4a6",
      "metadata": {
        "id": "2fe989c6-b5b3-4f93-aca3-8a812ea2f4a6",
        "outputId": "3c029da9-a7be-4847-e155-a2e38d23ec39"
      },
      "outputs": [
        {
          "name": "stdout",
          "output_type": "stream",
          "text": [
            "epoch: 1 --> loss 58043.36328125\n",
            "epoch: 11 --> loss 6.982641696929932\n",
            "epoch: 21 --> loss 6.607934474945068\n",
            "epoch: 31 --> loss 6.2574591636657715\n",
            "epoch: 41 --> loss 5.929598331451416\n",
            "epoch: 51 --> loss 5.6228203773498535\n",
            "epoch: 61 --> loss 5.335864067077637\n",
            "epoch: 71 --> loss 5.067376136779785\n",
            "epoch: 81 --> loss 4.816222667694092\n",
            "epoch: 91 --> loss 4.581284523010254\n",
            "epoch: 101 --> loss 4.3614726066589355\n",
            "epoch: 111 --> loss 4.155834674835205\n",
            "epoch: 121 --> loss 3.963468551635742\n",
            "epoch: 131 --> loss 3.7835001945495605\n",
            "epoch: 141 --> loss 3.6151580810546875\n",
            "epoch: 151 --> loss 3.4576549530029297\n",
            "epoch: 161 --> loss 3.3102803230285645\n",
            "epoch: 171 --> loss 3.1724371910095215\n",
            "epoch: 181 --> loss 3.043503999710083\n",
            "epoch: 191 --> loss 2.9228453636169434\n",
            "epoch: 201 --> loss 2.8100078105926514\n",
            "epoch: 211 --> loss 2.7044012546539307\n",
            "epoch: 221 --> loss 2.605621576309204\n",
            "epoch: 231 --> loss 2.513223171234131\n",
            "epoch: 241 --> loss 2.4267821311950684\n",
            "epoch: 251 --> loss 2.34591007232666\n",
            "epoch: 261 --> loss 2.270247220993042\n",
            "epoch: 271 --> loss 2.199470281600952\n",
            "epoch: 281 --> loss 2.133249282836914\n",
            "epoch: 291 --> loss 2.0713019371032715\n",
            "epoch: 301 --> loss 2.013359546661377\n",
            "epoch: 311 --> loss 1.959143877029419\n",
            "epoch: 321 --> loss 1.9084230661392212\n",
            "epoch: 331 --> loss 1.8609821796417236\n",
            "epoch: 341 --> loss 1.8165874481201172\n",
            "epoch: 351 --> loss 1.775062918663025\n",
            "epoch: 361 --> loss 1.7362191677093506\n",
            "epoch: 371 --> loss 1.6998745203018188\n",
            "epoch: 381 --> loss 1.6658813953399658\n",
            "epoch: 391 --> loss 1.6340742111206055\n",
            "epoch: 401 --> loss 1.6043113470077515\n",
            "epoch: 411 --> loss 1.5764741897583008\n",
            "epoch: 421 --> loss 1.5504333972930908\n",
            "epoch: 431 --> loss 1.5260822772979736\n",
            "epoch: 441 --> loss 1.5032860040664673\n",
            "epoch: 451 --> loss 1.4819605350494385\n",
            "epoch: 461 --> loss 1.4620120525360107\n",
            "epoch: 471 --> loss 1.4433565139770508\n",
            "epoch: 481 --> loss 1.4258943796157837\n",
            "epoch: 491 --> loss 1.4095659255981445\n",
            "epoch: 501 --> loss 1.3942925930023193\n",
            "epoch: 511 --> loss 1.3799877166748047\n",
            "epoch: 521 --> loss 1.3666279315948486\n",
            "epoch: 531 --> loss 1.3541089296340942\n",
            "epoch: 541 --> loss 1.3424092531204224\n",
            "epoch: 551 --> loss 1.3314599990844727\n",
            "epoch: 561 --> loss 1.3212242126464844\n",
            "epoch: 571 --> loss 1.3116381168365479\n",
            "epoch: 581 --> loss 1.302673101425171\n",
            "epoch: 591 --> loss 1.2942899465560913\n",
            "epoch: 601 --> loss 1.2864469289779663\n",
            "epoch: 611 --> loss 1.279104471206665\n",
            "epoch: 621 --> loss 1.2722437381744385\n",
            "epoch: 631 --> loss 1.265819787979126\n",
            "epoch: 641 --> loss 1.2598096132278442\n",
            "epoch: 651 --> loss 1.2541918754577637\n",
            "epoch: 661 --> loss 1.2489348649978638\n",
            "epoch: 671 --> loss 1.2440059185028076\n",
            "epoch: 681 --> loss 1.23940908908844\n",
            "epoch: 691 --> loss 1.2351008653640747\n",
            "epoch: 701 --> loss 1.2310692071914673\n",
            "epoch: 711 --> loss 1.2273046970367432\n",
            "epoch: 721 --> loss 1.2237799167633057\n",
            "epoch: 731 --> loss 1.2204806804656982\n",
            "epoch: 741 --> loss 1.217397928237915\n",
            "epoch: 751 --> loss 1.2145086526870728\n",
            "epoch: 761 --> loss 1.2118114233016968\n",
            "epoch: 771 --> loss 1.2092822790145874\n",
            "epoch: 781 --> loss 1.206916332244873\n",
            "epoch: 791 --> loss 1.2047042846679688\n",
            "epoch: 801 --> loss 1.2026417255401611\n",
            "epoch: 811 --> loss 1.2007052898406982\n",
            "epoch: 821 --> loss 1.1988928318023682\n",
            "epoch: 831 --> loss 1.1972051858901978\n",
            "epoch: 841 --> loss 1.1956145763397217\n",
            "epoch: 851 --> loss 1.1941334009170532\n",
            "epoch: 861 --> loss 1.1927443742752075\n",
            "epoch: 871 --> loss 1.19145667552948\n",
            "epoch: 881 --> loss 1.1902410984039307\n",
            "epoch: 891 --> loss 1.1891016960144043\n",
            "epoch: 901 --> loss 1.1880395412445068\n",
            "epoch: 911 --> loss 1.1870461702346802\n",
            "epoch: 921 --> loss 1.1861183643341064\n",
            "epoch: 931 --> loss 1.1852521896362305\n",
            "epoch: 941 --> loss 1.18443763256073\n",
            "epoch: 951 --> loss 1.1836750507354736\n",
            "epoch: 961 --> loss 1.1829626560211182\n",
            "epoch: 971 --> loss 1.1822904348373413\n",
            "epoch: 981 --> loss 1.1816717386245728\n",
            "epoch: 991 --> loss 1.1810907125473022\n"
          ]
        },
        {
          "data": {
            "image/png": "[encoded data removed]",
            "text/plain": [
              "<Figure size 640x480 with 1 Axes>"
            ]
          },
          "metadata": {},
          "output_type": "display_data"
        }
      ],
      "source": [
        "# Model 2 setup\n",
        "LEARNING_RATE = 0.01\n",
        "EPOCHS = 1000\n",
        "LOG_INTERVAL = 10\n",
        "\n",
        "# Define the model with 1 input, 1 output, and bias\n",
        "model = nn.Linear(in_features=1, out_features=1, bias=True)\n",
        "\n",
        "# Initialize weights (mean=0.0, std=0.1)\n",
        "nn.init.normal_(model.weight, mean=0.0, std=0.1)\n",
        "\n",
        "# Set bias to zero\n",
        "nn.init.zeros_(model.bias)\n",
        "\n",
        "# Create an SGD optimizer with the learning rate\n",
        "optimizer = torch.optim.SGD(model.parameters(), lr=LEARNING_RATE)\n",
        "\n",
        "# Train the model using x as input\n",
        "losses_one_input = train(EPOCHS, x, y, loss_function, LOG_INTERVAL, model, optimizer)\n",
        "\n",
        "plt.plot(losses_one_input)\n",
        "plt.title('Losses One input and Bias term')\n",
        "plt.xlabel('Epoch')\n",
        "plt.ylabel('Loss')\n",
        "plt.show()"
      ]
    },
    {
      "cell_type": "code",
      "execution_count": null,
      "id": "bcc741f7-1e44-44a6-9030-f87ceeb33833",
      "metadata": {
        "id": "bcc741f7-1e44-44a6-9030-f87ceeb33833",
        "outputId": "43626e18-114f-4c91-b8a5-eddbf998fed4"
      },
      "outputs": [
        {
          "name": "stdout",
          "output_type": "stream",
          "text": [
            " Weights tensor([[41.9377]]), \n",
            "Bias: tensor([0.7469])\n"
          ]
        }
      ],
      "source": [
        "print(f' Weights {model.weight.data}, \\nBias: {model.bias.data}')"
      ]
    },
    {
      "cell_type": "markdown",
      "id": "bff91cb4-fb13-4f45-8911-600ad392aea8",
      "metadata": {
        "id": "bff91cb4-fb13-4f45-8911-600ad392aea8"
      },
      "source": [
        "## <font color = 'blue'>**Part 3: No Bias Term**\n",
        "\n",
        "- <font color = 'blue'>**Part 3 is similar to Part 2, but now the model has no bias term.**</font>\n",
        "- **We’re running the model for just 10 epochs and will still get similar results.**\n",
        "\n",
        "## <font color = 'blue'>**Observations**</font>\n",
        "- Now we can see that when we do not include a bias term, we get similar results to the last model, but only running 10 EPOCHS.\n",
        "- This could be because we are running fewer calculations since there are fewer parameters, resulting in faster convergence.\n",
        "- The prediction line is running through the origin, which suggests the bias term doesn’t have a significant impact on the results.\n",
        "- If the chart doesn't clearly show the difference in EPOCH training below make sure to look at the loss value for the 11th EPOCH in part two and notice that we are getting a better convergence here after only <font color = 'blue'>**6 EPOCHS**.\n"
      ]
    },
    {
      "cell_type": "code",
      "execution_count": null,
      "id": "528f7f30-4d1b-4399-b3d3-a8cb113efa60",
      "metadata": {
        "id": "528f7f30-4d1b-4399-b3d3-a8cb113efa60",
        "outputId": "b71e1e36-aa85-4952-acc7-9118d4c11e9a"
      },
      "outputs": [
        {
          "name": "stdout",
          "output_type": "stream",
          "text": [
            "epoch: 1 --> loss 58319.1953125\n",
            "epoch: 2 --> loss 6938.1240234375\n",
            "epoch: 3 --> loss 826.3634033203125\n",
            "epoch: 4 --> loss 99.3714370727539\n",
            "epoch: 5 --> loss 12.89579963684082\n",
            "epoch: 6 --> loss 2.6095829010009766\n",
            "epoch: 7 --> loss 1.3860321044921875\n",
            "epoch: 8 --> loss 1.2404857873916626\n",
            "epoch: 9 --> loss 1.223174810409546\n",
            "epoch: 10 --> loss 1.221120834350586\n"
          ]
        },
        {
          "data": {
            "image/png": "[encoded data removed]",
            "text/plain": [
              "<Figure size 640x480 with 1 Axes>"
            ]
          },
          "metadata": {},
          "output_type": "display_data"
        }
      ],
      "source": [
        "# Model 3 setup (No bias term)\n",
        "LEARNING_RATE = 0.01\n",
        "EPOCHS = 10\n",
        "LOG_INTERVAL = 1\n",
        "\n",
        "# Define the model with 1 input, 1 output, and no bias\n",
        "model = nn.Linear(in_features=1, out_features=1, bias=False)\n",
        "\n",
        "# Initialize weights (mean=0.0, std=1.0)\n",
        "nn.init.normal_(model.weight, mean=0.0, std=1.0)\n",
        "\n",
        "# No need to initialize the bias since there's no bias term\n",
        "\n",
        "# Create SGD optimizer with the learning rate\n",
        "optimizer = torch.optim.SGD(model.parameters(), lr=LEARNING_RATE)\n",
        "\n",
        "# Train the model and track losses\n",
        "losses_no_bias = train(EPOCHS, x, y, loss_function, LOG_INTERVAL, model, optimizer)\n",
        "\n",
        "# Plot the training losses\n",
        "plt.plot(losses_no_bias)\n",
        "plt.title('Losses over 10 EPOCHS (No Bias)')\n",
        "plt.xlabel('Epoch')\n",
        "plt.ylabel('Loss')\n",
        "plt.show()\n"
      ]
    },
    {
      "cell_type": "code",
      "execution_count": null,
      "id": "0a02437a-a1a1-4583-9700-5bd24310c77c",
      "metadata": {
        "id": "0a02437a-a1a1-4583-9700-5bd24310c77c",
        "outputId": "ec798e90-bc4d-45bb-9fb4-54d3cfe62b28"
      },
      "outputs": [
        {
          "name": "stdout",
          "output_type": "stream",
          "text": [
            " Weights tensor([[42.0557]])\n"
          ]
        }
      ],
      "source": [
        "print(f' Weights {model.weight.data}')"
      ]
    },
    {
      "cell_type": "code",
      "execution_count": null,
      "id": "8bba9fb6-93a1-47d3-a660-295843426440",
      "metadata": {
        "id": "8bba9fb6-93a1-47d3-a660-295843426440"
      },
      "outputs": [],
      "source": []
    }
  ],
  "metadata": {
    "kernelspec": {
      "display_name": "Python (condaenv)",
      "language": "python",
      "name": "condaenv"
    },
    "language_info": {
      "codemirror_mode": {
        "name": "ipython",
        "version": 3
      },
      "file_extension": ".py",
      "mimetype": "text/x-python",
      "name": "python",
      "nbconvert_exporter": "python",
      "pygments_lexer": "ipython3",
      "version": "3.12.2"
    },
    "colab": {
      "provenance": []
    }
  },
  "nbformat": 4,
  "nbformat_minor": 5
}